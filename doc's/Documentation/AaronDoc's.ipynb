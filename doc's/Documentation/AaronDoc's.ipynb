{
 "cells": [
  {
   "cell_type": "markdown",
   "metadata": {},
   "source": [
    "# Facial Recognition Project Documentation - Aaron Moran (G00356519)\n",
    "For our module Professional Practice in IT Skills we were tasked with forming a group and working pon a project together as a team. The group that I was part of consisted of Thomas Kenny and Arnas Stepnavicus and I. It was exciting to have the opportunity to work in a group as ideas can be passed around and you learn new styles of coding and approach to problems.\n",
    "\n",
    "The project which we all agreed on was a Facial Recognition application which allowed a user to Register a username and photo and allow them to Login using the same details through a Django application.\n",
    "\n",
    "# Research\n",
    "There are many research tools out there for programmers and are essential for projects where you might be facing any issues. I was able to express issues on Reddit and StackOverflow on problems i was facing with Flask and Django which current Developers would assist and guide me in the right direction and give me new insights to approaches I could take in solving the problems.\n",
    "\n",
    "* [Reddit/r/programming](https://www.reddit.com/r/programming/)\n",
    "* [StackOverflow](https://stackoverflow.com/)\n",
    "\n",
    "# UI\n",
    "I worked on creating a simple and basic User Interface for the Application we discussed using Discord and Microsoft Teams on deciding what color schemes we would use and fonts. Below is a few snippets of how the application turned out.\n",
    "\n",
    "### Home.html\n",
    "![Login](home-page.png)\n",
    "\n",
    "\n",
    "\n",
    "### Login.html\n",
    "![Login](login.png)\n",
    "\n",
    "\n",
    "\n",
    "### Register.html\n",
    "![Login](register.png)\n",
    "\n",
    "# SQLite\n",
    "\n",
    "For our database we used the default of SQLite. Django offers a default database for every project that is made. For initialising what is being sotred in the database I had to create a UserProfile model from our models.py file which would store a Username and Image for each user that registers.\n",
    "\n",
    "###### models.py"
   ]
  },
  {
   "cell_type": "raw",
   "metadata": {},
   "source": [
    "from django.db import models\n",
    "\n",
    "class UserProfile(models.Model):\n",
    "    title = models.CharField(max_length=25, default='NULL USER')\n",
    "    img = models.ImageField(upload_to=\"images/\", default='null.jpg')\n",
    "\n",
    "\n",
    "    def __str__(self):\n",
    "        return self.title"
   ]
  },
  {
   "cell_type": "markdown",
   "metadata": {},
   "source": [
    "Once the model is created I had to created a RegistrationForm inside our forms.py file that would display the Textfield for a Username and a Browse Image box for Images. This was all linked to the Front-End.\n",
    "##### forms.py"
   ]
  },
  {
   "cell_type": "raw",
   "metadata": {},
   "source": [
    "from django import  forms\n",
    "\n",
    "class RegistrationForm(forms.Form):\n",
    "    name = forms.CharField()\n",
    "    images = forms.ImageField(required=True)"
   ]
  },
  {
   "cell_type": "markdown",
   "metadata": {},
   "source": [
    "##### Login.html"
   ]
  },
  {
   "cell_type": "raw",
   "metadata": {},
   "source": [
    "      <div class=\"div2\">\n",
    "            {% if form.errors %}\n",
    "                <p class=\"error label-danger\">\n",
    "                    Your username does not match. \n",
    "                    Please try again.\n",
    "                </p>\n",
    "            {% endif %}\n",
    "            <form method=\"POST\">\n",
    "                {% csrf_token %}\n",
    "                <p>{{ form.as_p }}</p>\n",
    "     \n",
    "                <br>\n",
    "                <button class=\"button\" type=\"submit\">Login</button>\n",
    "            </form>\n",
    "        </div>"
   ]
  },
  {
   "cell_type": "markdown",
   "metadata": {},
   "source": [
    "Once the HTML page is displaying the form I had to create a function inside the views.py file which would call the RegistrationForm and pass its data to the model which would then be posted to the database.\n",
    "\n",
    "###### views.py"
   ]
  },
  {
   "cell_type": "raw",
   "metadata": {},
   "source": [
    "def register(request):\n",
    "    global imageName\n",
    "    context = {}\n",
    "    if request.method == \"POST\":\n",
    "        form = RegistrationForm(request.POST, request.FILES)\n",
    "        if form.is_valid():\n",
    "            name = form.cleaned_data.get(\"name\")\n",
    "            img = form.cleaned_data.get(\"images\")\n",
    "            obj = UserProfile.objects.create(\n",
    "                title = name,\n",
    "                img = img\n",
    "            )\n",
    "            obj.save()\n",
    "            imageName =\"./facialrecognition/media/images/\"+name+\".png\"\n",
    "            print(obj)\n",
    "          \n",
    "    else:\n",
    "        form = RegistrationForm()\n",
    "    context['form'] = form\n",
    "    return render(request, 'accounts/register.html', context)\n"
   ]
  },
  {
   "cell_type": "markdown",
   "metadata": {},
   "source": [
    "# Saving Images\n",
    "Thanks to Django and SQLite they make it quite simple to add and save images to a database and locally. Within our project we are saving images locally to a Media folder which stores each image as the user's 'username.png'. This way we are going to have our Facial Recognition scripts run and compare to the image that is stored locally to determine which user is attempting to login. If a false match then the user will not be granted access."
   ]
  },
  {
   "cell_type": "markdown",
   "metadata": {},
   "source": [
    "# Administration Page\n",
    "With Django they provide the developers with an option to create a super user who can access all the users information within the database. This admin page can only be accessed with a username and password. All password are encrypted and are not visible to other admins or people accessing the database. The Admin has full control of the database and can Insert/Update/Delete new or existing users."
   ]
  },
  {
   "cell_type": "markdown",
   "metadata": {},
   "source": [
    "\n",
    "## Django vs Flask\n",
    "When we first started the project we agreed to use Flask as our framework which we could deploy an application and carry out the specific functionality.\n",
    "\n",
    "##### Installing Flask :\n",
    "````\n",
    "pip install Flask\n",
    "````\n",
    "\n",
    "Our project was coming along nicely with Flask until we started facing difficulties with pip installations and using different Operating Systems was clashing with the way packages were being installed and it proved to be quite difficult to develop without seeing new issues arise every time a git pull was issued.\n",
    "\n",
    "For these reasons we switched our framework to Django. Django solved alot of these issues for us as it requires little to none packages other than its own unless we decided on using any specific libraries.\n",
    "\n",
    "##### Installing Django :\n",
    "````\n",
    "pip install Django\n",
    "````\n",
    "\n",
    "### Design Decisions\n",
    "* Python\n",
    "* Django\n",
    "* SQLite3\n"
   ]
  }
 ],
 "metadata": {
  "kernelspec": {
   "display_name": "Python 3",
   "language": "python",
   "name": "python3"
  },
  "language_info": {
   "codemirror_mode": {
    "name": "ipython",
    "version": 3
   },
   "file_extension": ".py",
   "mimetype": "text/x-python",
   "name": "python",
   "nbconvert_exporter": "python",
   "pygments_lexer": "ipython3",
   "version": "3.7.4"
  }
 },
 "nbformat": 4,
 "nbformat_minor": 2
}
