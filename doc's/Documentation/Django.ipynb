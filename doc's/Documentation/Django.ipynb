{
 "cells": [
  {
   "cell_type": "markdown",
   "metadata": {},
   "source": [
    "# Django\n",
    "![alt text](https://external-content.duckduckgo.com/iu/?u=https%3A%2F%2Fwww.aaronhastings.me%2Fwp-content%2Fuploads%2F2013%2F02%2Fdjango_logo.png&f=1&nofb=1g)\n",
    "\n",
    "Django is a very high level Python Web framework. It is really fast and so far i have faced no issues while developing with it. All of Django's Documentation is very clear and there is endless amounts of information online from Stackoverflow to Reddit.\n",
    "\n",
    "Django is a very secure Web Framework and is incredibly Versatile in what you can do. It has its own built in Administration UI so the developers can visualise the databases and the information being input.\n",
    "\n",
    "You can find the doc's here : [Django Documentation](https://docs.djangoproject.com/en/3.0/)\n",
    "\n",
    "## Installing Django\n",
    "```\n",
    "    pip install Django==3.0.4\n",
    "```\n",
    "\n"
   ]
  },
  {
   "cell_type": "code",
   "execution_count": 3,
   "metadata": {},
   "outputs": [
    {
     "name": "stdout",
     "output_type": "stream",
     "text": [
      "Django, The web framework for perfectionists with deadlines!\n"
     ]
    }
   ],
   "source": [
    "print(\"Django, The web framework for perfectionists with deadlines!\")"
   ]
  },
  {
   "cell_type": "markdown",
   "metadata": {},
   "source": [
    "# Why did we chose Django?\n",
    "\n",
    "* > When we first started our project we decided to use Flask with Python to build a UI design that would store usernames and user images to a SQLite database. Over time this gave us a number of difficulties regarding deployment on different OS machines (e.g Linux and Windows). Also we faced issues where trying to install new and different packages were not supported the same on a Linux machine compared to a Windows machine. \n",
    "\n",
    "* > We attempted to get images stored on the SQLite database through Flask for a  number of days and everytime were unsuccessful. For these reasons we decided to switch to Django which had a lot clearer documentation and with this we were able to achieve adding usernames and images to a database within a couple of hours."
   ]
  },
  {
   "cell_type": "code",
   "execution_count": 11,
   "metadata": {},
   "outputs": [
    {
     "name": "stdout",
     "output_type": "stream",
     "text": [
      "We're using Django\n"
     ]
    }
   ],
   "source": [
    "django = 1\n",
    "flask = 0\n",
    "if django > flask:\n",
    "    print(\"We're using Django\")\n",
    "else:\n",
    "    print(\"We're using Flask\")"
   ]
  },
  {
   "cell_type": "code",
   "execution_count": null,
   "metadata": {},
   "outputs": [],
   "source": []
  }
 ],
 "metadata": {
  "kernelspec": {
   "display_name": "Python 3",
   "language": "python",
   "name": "python3"
  },
  "language_info": {
   "codemirror_mode": {
    "name": "ipython",
    "version": 3
   },
   "file_extension": ".py",
   "mimetype": "text/x-python",
   "name": "python",
   "nbconvert_exporter": "python",
   "pygments_lexer": "ipython3",
   "version": "3.7.4"
  }
 },
 "nbformat": 4,
 "nbformat_minor": 2
}
